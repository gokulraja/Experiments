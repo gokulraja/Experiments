{
  "nbformat": 4,
  "nbformat_minor": 0,
  "metadata": {
    "colab": {
      "name": "train_test_minst.ipynb",
      "provenance": [],
      "authorship_tag": "ABX9TyOAVIWgngEjFA9qB55nv9yk",
      "include_colab_link": true
    },
    "kernelspec": {
      "name": "python3",
      "display_name": "Python 3"
    }
  },
  "cells": [
    {
      "cell_type": "markdown",
      "metadata": {
        "id": "view-in-github",
        "colab_type": "text"
      },
      "source": [
        "<a href=\"https://colab.research.google.com/github/seenu-g/Experiments/blob/master/py_examples/numpy/minst/train_test_minst.ipynb\" target=\"_parent\"><img src=\"https://colab.research.google.com/assets/colab-badge.svg\" alt=\"Open In Colab\"/></a>"
      ]
    },
    {
      "cell_type": "code",
      "metadata": {
        "id": "_yPBZ7PnfHOK",
        "colab_type": "code",
        "colab": {}
      },
      "source": [
        "from google.colab import drive\n",
        "import sys\n",
        "%load_ext autoreload\n",
        "%autoreload 2\n",
        "drive.mount('/content/gdrive',force_remount=True)"
      ],
      "execution_count": 0,
      "outputs": []
    },
    {
      "cell_type": "code",
      "metadata": {
        "id": "PyUNezgsS2c1",
        "colab_type": "code",
        "colab": {}
      },
      "source": [
        "import torch\n",
        "import torchvision\n",
        "\n",
        "random_seed = 1\n",
        "torch.backends.cudnn.enabled = False\n",
        "torch.manual_seed(random_seed)\n",
        "\n",
        "import sys\n",
        "import os\n",
        "folder = '/content/gdrive/My Drive/Github_Experiments/'\n",
        "os.chdir(folder)\n",
        "print(os.getcwd()) "
      ],
      "execution_count": 0,
      "outputs": []
    },
    {
      "cell_type": "code",
      "metadata": {
        "id": "aSZ_QLPSTFw1",
        "colab_type": "code",
        "colab": {}
      },
      "source": [
        "batch_size_train = 64\n",
        "log_interval = 10\n",
        "batch_size_test = 1000\n",
        "train_loader = torch.utils.data.DataLoader(\n",
        "  torchvision.datasets.MNIST('/files/', train=True, download=True,\n",
        "                             transform=torchvision.transforms.Compose([\n",
        "                               torchvision.transforms.ToTensor(),\n",
        "                               torchvision.transforms.Normalize(\n",
        "                                 (0.1307,), (0.3081,))\n",
        "                             ])),\n",
        "  batch_size=batch_size_train, shuffle=True)\n",
        "\n",
        "test_loader = torch.utils.data.DataLoader(\n",
        "  torchvision.datasets.MNIST('/files/', train=False, download=True,\n",
        "                             transform=torchvision.transforms.Compose([\n",
        "                               torchvision.transforms.ToTensor(),\n",
        "                               torchvision.transforms.Normalize(\n",
        "                                 (0.1307,), (0.3081,))\n",
        "                             ])),\n",
        "  batch_size=batch_size_test, shuffle=True)"
      ],
      "execution_count": 0,
      "outputs": []
    },
    {
      "cell_type": "code",
      "metadata": {
        "id": "_ix6Km9fTXvU",
        "colab_type": "code",
        "colab": {}
      },
      "source": [
        "import matplotlib.pyplot as plt\n",
        "def show_images(example_data) :\n",
        "  fig = plt.figure()\n",
        "  for i in range(20):\n",
        "    plt.subplot(5,4,i+1)\n",
        "    plt.tight_layout()\n",
        "    plt.imshow(example_data[i][0], cmap='gray', interpolation='none')\n",
        "    #plt.imshow(example_data[i][0].numpy().squeeze(), cmap='gray_r');\n",
        "    plt.title(\"Ground Truth: {}\".format(example_targets[i]))\n",
        "    plt.xticks([])\n",
        "    plt.yticks([])"
      ],
      "execution_count": 0,
      "outputs": []
    },
    {
      "cell_type": "code",
      "metadata": {
        "id": "_NwMcwKFUxVp",
        "colab_type": "code",
        "colab": {}
      },
      "source": [
        "examples = enumerate(test_loader)\n",
        "batch_idx, (example_data, example_labels) = next(examples)\n",
        "print(example_data.shape)\n",
        "print(batch_idx)\n",
        "print(example_labels.shape)\n",
        "show_images(example_data)"
      ],
      "execution_count": 0,
      "outputs": []
    },
    {
      "cell_type": "code",
      "metadata": {
        "id": "ggfRNJ0lVg4q",
        "colab_type": "code",
        "colab": {}
      },
      "source": [
        "import torch.nn as nn\n",
        "import torch.nn.functional as F\n",
        "import torch.optim as optim\n",
        "\n",
        "class Net(nn.Module):\n",
        "    def __init__(self):\n",
        "        super(Net, self).__init__()\n",
        "        self.conv1 = nn.Conv2d(1, 10, kernel_size=5)\n",
        "        self.conv2 = nn.Conv2d(10, 20, kernel_size=5)\n",
        "        self.conv2_drop = nn.Dropout2d()\n",
        "        self.fc1 = nn.Linear(320, 50)\n",
        "        self.fc2 = nn.Linear(50, 10)\n",
        "#defines the way we compute our output using the given layers and functions\n",
        "#One can print out tensors somewhere in the forward pass for easier debugging.\n",
        "    def forward(self, x):\n",
        "        x = F.relu(F.max_pool2d(self.conv1(x), 2))\n",
        "        x = F.relu(F.max_pool2d(self.conv2_drop(self.conv2(x)), 2))\n",
        "        x = x.view(-1, 320)\n",
        "        x = F.relu(self.fc1(x))\n",
        "        x = F.dropout(x, training=self.training)\n",
        "        x = self.fc2(x)\n",
        "        return F.log_softmax(x,dim=-1)"
      ],
      "execution_count": 0,
      "outputs": []
    },
    {
      "cell_type": "code",
      "metadata": {
        "id": "Kh765GfMV660",
        "colab_type": "code",
        "colab": {}
      },
      "source": [
        "learning_rate = 0.01\n",
        "momentum = 0.5\n",
        "network = Net()\n",
        "optimizer = optim.SGD(network.parameters(), lr=learning_rate,momentum=momentum)\n",
        "print(network)\n"
      ],
      "execution_count": 0,
      "outputs": []
    },
    {
      "cell_type": "markdown",
      "metadata": {
        "id": "mV3etyvWDmfi",
        "colab_type": "text"
      },
      "source": [
        "show initial weight and initial gradient - experiment Not Required for running this program"
      ]
    },
    {
      "cell_type": "code",
      "metadata": {
        "id": "bSq0yrHLEI5N",
        "colab_type": "code",
        "colab": {}
      },
      "source": [
        "examples = enumerate(train_loader)\n",
        "batch_idx, (train_example_data, train_example_label) = next(train_examples)\n",
        "print('Initial weights - ', network.conv1.weight.shape)  \n",
        "print('Initial weights - ', network.conv2.weight.shape)  \n",
        "print('Initial weights - ', network.fc1.weight.shape)  \n",
        "print('Initial weights - ', network.fc2.weight.shape)  \n",
        "\n",
        "#print('Initial weights - ', network.conv1.weight)  \n",
        "optimizer.zero_grad()\n",
        "print('Initial Gradient -shape', network.conv1.weight.grad.shape)\n",
        "print('Initial Gradient -shape', network.conv2.weight.grad.shape)\n",
        "print('Initial Gradient -shape', network.fc1.weight.shape)  \n",
        "print('Initial Gradient -shape', network.fc2.weight.shape)  \n",
        "\n",
        "#print('Initial Gradient -', network.fc1.weight.grad) # this always has been zero matrix\n",
        "#print('Initial Gradient -', network.fc1.weight) # this always has been initialized to random values"
      ],
      "execution_count": 0,
      "outputs": []
    },
    {
      "cell_type": "markdown",
      "metadata": {
        "id": "I1dRjttSDwPY",
        "colab_type": "text"
      },
      "source": [
        "show initial weight and initial gradient - experiment # Not Required for running this program"
      ]
    },
    {
      "cell_type": "code",
      "metadata": {
        "id": "DaeuvvVGDTVr",
        "colab_type": "code",
        "colab": {}
      },
      "source": [
        "output = network(train_example_data)\n",
        "loss = F.nll_loss(output, train_example_label)\n",
        "loss.backward() \n",
        "print('UpdatedGradient shape-', network.conv1.weight.grad.shape)\n",
        "print('UpdatedGradient -', network.conv1.weight.grad)\n",
        "optimizer.step()\n",
        "#print('Updated weights - ', network.conv1.weight)"
      ],
      "execution_count": 0,
      "outputs": []
    },
    {
      "cell_type": "code",
      "metadata": {
        "id": "JC-zdfhrWStV",
        "colab_type": "code",
        "colab": {}
      },
      "source": [
        "n_epochs = 3\n",
        "train_losses = []\n",
        "train_counter = []\n",
        "test_losses = []\n",
        "test_counter = [i*len(train_loader.dataset) for i in range(n_epochs + 1)]\n",
        "\n",
        "def train(epoch):\n",
        "  network.train()\n",
        "  for batch_idx, (data, target) in enumerate(train_loader):\n",
        "    optimizer.zero_grad()\n",
        "    output = network(data)\n",
        "    loss = F.nll_loss(output, target)#compute a negative log-likelihodd loss between the output and the ground truth label\n",
        "    loss.backward() # collect a new set of gradients which we propagate back into each of the network's parameters using optimizer.step()\n",
        "    optimizer.step()\n",
        "    if batch_idx % log_interval == 0:\n",
        "      print('Train Epoch: {} [{}/{} ({:.0f}%)]\\tLoss: {:.6f}'.format(\n",
        "        epoch, batch_idx * len(data), len(train_loader.dataset),\n",
        "        100. * batch_idx / len(train_loader), loss.item()))\n",
        "      train_losses.append(loss.item())\n",
        "      train_counter.append((batch_idx*64) + ((epoch-1)*len(train_loader.dataset)))\n",
        "      #save and load their internal state\n",
        "      torch.save(network.state_dict(), '/content/gdrive/My Drive/Github_Experiments/' +'model.pth')\n",
        "      torch.save(optimizer.state_dict(), '/content/gdrive/My Drive/Github_Experiments/' +'optimizer.pth')\n",
        "  print(\"\\nTraining Time (in minutes) =\",(time()-time0)/60)\n",
        "\n",
        "def test():\n",
        "  network.eval()\n",
        "  test_loss = 0\n",
        "  correct = 0\n",
        "  with torch.no_grad(): # avoid storing the computations done producing the output of our network in the computation graph.\n",
        "    for data, target in test_loader:\n",
        "      output = network(data)\n",
        "      test_loss += F.nll_loss(output, target, size_average=False).item()\n",
        "      pred = output.data.max(1, keepdim=True)[1]\n",
        "      correct += pred.eq(target.data.view_as(pred)).sum()\n",
        "  test_loss /= len(test_loader.dataset)\n",
        "  test_losses.append(test_loss)\n",
        "  print('\\nTest set: Avg. loss: {:.4f}, Accuracy: {}/{} ({:.0f}%)\\n'.format(\n",
        "    test_loss, correct, len(test_loader.dataset),\n",
        "    100. * correct / len(test_loader.dataset)))"
      ],
      "execution_count": 0,
      "outputs": []
    },
    {
      "cell_type": "code",
      "metadata": {
        "id": "OnUJk5UGXa0r",
        "colab_type": "code",
        "colab": {}
      },
      "source": [
        "for epoch in range(1, n_epochs + 1):\n",
        "  train(epoch)\n",
        "  test()"
      ],
      "execution_count": 0,
      "outputs": []
    },
    {
      "cell_type": "code",
      "metadata": {
        "id": "VwGcLl8mZAoK",
        "colab_type": "code",
        "colab": {}
      },
      "source": [
        "fig = plt.figure()\n",
        "plt.plot(train_counter, train_losses, color='blue')\n",
        "#plt.plot(test_counter, test_losses, color='red')\n",
        "plt.legend(['Train Loss', 'Test Loss'], loc='upper right')\n",
        "plt.xlabel('number of training examples seen')\n",
        "plt.ylabel('negative log likelihood loss')"
      ],
      "execution_count": 0,
      "outputs": []
    },
    {
      "cell_type": "code",
      "metadata": {
        "id": "WLf6zQBCdk6k",
        "colab_type": "code",
        "colab": {}
      },
      "source": [
        "continued_network = Net()\n",
        "continued_optimizer = optim.SGD(network.parameters(), lr=learning_rate,momentum=momentum)\n",
        "# load the internal state of the network and optimizer when we last saved them.\n",
        "network_state_dict = torch.load('/content/gdrive/My Drive/Github_Experiments/' +'model.pth')\n",
        "continued_network.load_state_dict(network_state_dict)\n",
        "\n",
        "optimizer_state_dict = torch.load('/content/gdrive/My Drive/Github_Experiments/' +'optimizer.pth')\n",
        "continued_optimizer.load_state_dict(optimizer_state_dict)\n",
        "\n",
        "for i in range(n_epochs + 1,9):\n",
        "  test_counter.append(i*len(train_loader.dataset))\n",
        "  train(i)\n",
        "  test()"
      ],
      "execution_count": 0,
      "outputs": []
    },
    {
      "cell_type": "code",
      "metadata": {
        "id": "OYX0d-frd1rW",
        "colab_type": "code",
        "colab": {}
      },
      "source": [
        "fig = plt.figure()\n",
        "plt.plot(train_counter, train_losses, color='blue')\n",
        "#plt.scatter(test_counter, test_losses, color='red')\n",
        "plt.legend(['Train Loss', 'Test Loss'], loc='upper right')\n",
        "plt.xlabel('number of training examples seen')\n",
        "plt.ylabel('negative log likelihood loss')"
      ],
      "execution_count": 0,
      "outputs": []
    },
    {
      "cell_type": "markdown",
      "metadata": {
        "id": "1ih_TV0GkuYJ",
        "colab_type": "text"
      },
      "source": [
        "This can be done everytime train and test are done. Then use output to predict and display actuals"
      ]
    },
    {
      "cell_type": "code",
      "metadata": {
        "id": "rhyxju6OjcdB",
        "colab_type": "code",
        "colab": {}
      },
      "source": [
        "with torch.no_grad():\n",
        "  output = network(example_data)"
      ],
      "execution_count": 0,
      "outputs": []
    },
    {
      "cell_type": "code",
      "metadata": {
        "id": "lSTb9AL6jktK",
        "colab_type": "code",
        "colab": {}
      },
      "source": [
        "fig = plt.figure()\n",
        "for i in range(20):\n",
        "  plt.subplot(5,4,i+1)\n",
        "  plt.tight_layout()\n",
        "  plt.imshow(example_data[i][0], cmap='gray', interpolation='none')\n",
        "  plt.title(\"Prediction: {}\".format(output.data.max(1, keepdim=True)[1][i].item()))\n",
        "  plt.xticks([])\n",
        "  plt.yticks([])"
      ],
      "execution_count": 0,
      "outputs": []
    }
  ]
}